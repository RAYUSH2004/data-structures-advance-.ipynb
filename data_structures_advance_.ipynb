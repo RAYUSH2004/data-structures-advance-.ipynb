{
  "nbformat": 4,
  "nbformat_minor": 0,
  "metadata": {
    "colab": {
      "provenance": []
    },
    "kernelspec": {
      "name": "python3",
      "display_name": "Python 3"
    },
    "language_info": {
      "name": "python"
    }
  },
  "cells": [
    {
      "cell_type": "code",
      "execution_count": null,
      "metadata": {
        "id": "eyrVmxPIszlD"
      },
      "outputs": [],
      "source": []
    },
    {
      "cell_type": "markdown",
      "source": [],
      "metadata": {
        "id": "8gO1fEEAu0xf"
      }
    },
    {
      "cell_type": "markdown",
      "source": [],
      "metadata": {
        "id": "WXEiU5z5u1uM"
      }
    },
    {
      "cell_type": "markdown",
      "source": [
        "# Assignments:\n",
        " Data Structures in Python"
      ],
      "metadata": {
        "id": "O6q8jgFntbAs"
      }
    },
    {
      "cell_type": "markdown",
      "source": [
        "1.Write a code to reverse a string?\n",
        "\n",
        "\n",
        "> Add blockquote\n",
        "\n"
      ],
      "metadata": {
        "id": "uNrBInz6tkmD"
      }
    },
    {
      "cell_type": "code",
      "source": [
        "s=\"hello\"\n",
        "reversed_string=s[::-1]\n",
        "print(reversed_string)"
      ],
      "metadata": {
        "colab": {
          "base_uri": "https://localhost:8080/"
        },
        "id": "fjSowf3Gtybi",
        "outputId": "fac93dc3-68f6-4677-eb09-9551b58620cd"
      },
      "execution_count": null,
      "outputs": [
        {
          "output_type": "stream",
          "name": "stdout",
          "text": [
            "olleh\n"
          ]
        }
      ]
    },
    {
      "cell_type": "markdown",
      "source": [
        "2.Write a code to count the number of vowels in a strings?"
      ],
      "metadata": {
        "id": "iLi_NeliuOGz"
      }
    },
    {
      "cell_type": "code",
      "source": [
        "s=\"ayush kumar roy \"\n",
        "vowels=\"aeiouAEIOU\"\n",
        "count = 0\n",
        "for char in s:\n",
        "    if char in vowels:\n",
        "        count += 1\n",
        "print(count)"
      ],
      "metadata": {
        "colab": {
          "base_uri": "https://localhost:8080/"
        },
        "id": "xicvb82hugVU",
        "outputId": "2094960d-f834-47ce-8b5e-7ca5eea0e3fe"
      },
      "execution_count": null,
      "outputs": [
        {
          "output_type": "stream",
          "name": "stdout",
          "text": [
            "5\n"
          ]
        }
      ]
    },
    {
      "cell_type": "code",
      "source": [
        "s = \"madam\"\n",
        "s = s.lower().replace(\" \", \"\")  # Optional: Remove spaces and case sensitivity\n",
        "is_palindrome = s == s[::-1]\n",
        "print(is_palindrome)\n",
        "\n"
      ],
      "metadata": {
        "colab": {
          "base_uri": "https://localhost:8080/"
        },
        "id": "WTDNo51myv5z",
        "outputId": "cda167f3-b320-47c2-f8c6-416fb7c880c3"
      },
      "execution_count": null,
      "outputs": [
        {
          "output_type": "stream",
          "name": "stdout",
          "text": [
            "True\n"
          ]
        }
      ]
    },
    {
      "cell_type": "markdown",
      "source": [
        "3.Write a code to check if a given string is a palindrome or no?"
      ],
      "metadata": {
        "id": "rX1lJKfqymsb"
      }
    },
    {
      "cell_type": "markdown",
      "source": [
        "4\n",
        " Write a code to check if two given strings are anagrams of each other?"
      ],
      "metadata": {
        "id": "7ceEJEGQzP4c"
      }
    },
    {
      "cell_type": "code",
      "source": [
        "\n",
        "s1 = \"listen\"\n",
        "s2 = \"silent\"\n",
        "are_anagrams = sorted(s1) == sorted(s2)\n",
        "print(are_anagrams)"
      ],
      "metadata": {
        "id": "u7db1FO2zTyy"
      },
      "execution_count": null,
      "outputs": []
    },
    {
      "cell_type": "markdown",
      "source": [
        "5.Write a code to find all occurrences of a given substring within another string?"
      ],
      "metadata": {
        "id": "8-nG7sZ0z-ck"
      }
    },
    {
      "cell_type": "code",
      "source": [
        "main_string = \"hello hello\"\n",
        "substring = \"ell\"\n",
        "indices = []\n",
        "start = 0\n",
        "while True:\n",
        "    index = main_string.find(substring, start)\n",
        "    if index == -1:\n",
        "        break\n",
        "    indices.append(index)\n",
        "    start = index + 1\n",
        "print(indices)"
      ],
      "metadata": {
        "colab": {
          "base_uri": "https://localhost:8080/"
        },
        "id": "QlLDVeFa0F_y",
        "outputId": "fc8c2483-8e97-4312-ecd6-190f0903c1e6"
      },
      "execution_count": null,
      "outputs": [
        {
          "output_type": "stream",
          "name": "stdout",
          "text": [
            "[1, 7]\n"
          ]
        }
      ]
    },
    {
      "cell_type": "markdown",
      "source": [
        "6.Write a code to perform basic string compression using the counts of repeated characters?"
      ],
      "metadata": {
        "id": "-sqY27Vvu373"
      }
    },
    {
      "cell_type": "code",
      "source": [
        "def compress_string(s):\n",
        "    compressed = []\n",
        "    count = 1\n",
        "\n",
        "    for i in range(len(s)):\n",
        "        # If the current character is the same as the next one, increment the count\n",
        "        if i < len(s) - 1 and s[i] == s[i + 1]:\n",
        "            count += 1\n",
        "        else:\n",
        "            # Append the character and its count to the compressed list\n",
        "            compressed.append(s[i] + str(count))\n",
        "            count = 1  # Reset the count for the next character\n",
        "\n",
        "    # Join the compressed list into a single string\n",
        "    compressed_string = ''.join(compressed)\n",
        "\n",
        "    # Return the compressed string only if it's shorter than the original string\n",
        "    return compressed_string if len(compressed_string) < len(s) else s\n",
        "\n",
        "# Example usage\n",
        "input_string = \"aabcccccaaa\"\n",
        "compressed_string = compress_string(input_string)\n",
        "print(f\"Original: {input_string}\")\n",
        "print(f\"Compressed: {compressed_string}\")"
      ],
      "metadata": {
        "colab": {
          "base_uri": "https://localhost:8080/"
        },
        "id": "Fs5XGYUEwt9-",
        "outputId": "7976884a-d2eb-4524-ead5-1582604fbde0"
      },
      "execution_count": 5,
      "outputs": [
        {
          "output_type": "stream",
          "name": "stdout",
          "text": [
            "Original: aabcccccaaa\n",
            "Compressed: a2b1c5a3\n"
          ]
        }
      ]
    },
    {
      "cell_type": "markdown",
      "source": [
        "Write a code to determine if a string has all unique characters?"
      ],
      "metadata": {
        "id": "uWAVTpg9w9PM"
      }
    },
    {
      "cell_type": "code",
      "source": [
        "def has_unique_characters(s):\n",
        "    # If the string length is greater than 128, it must contain duplicates\n",
        "    if len(s) > 128:\n",
        "        return False\n",
        "\n",
        "    # Use a set to track unique characters\n",
        "    char_set = set()\n",
        "\n",
        "    for char in s:\n",
        "        if char in char_set:\n",
        "            return False\n",
        "        char_set.add(char)\n",
        "\n",
        "    return True\n",
        "\n",
        "# Example usage\n",
        "input_string = \"abcdefg\"\n",
        "result = has_unique_characters(input_string)\n",
        "print(f\"Does the string '{input_string}' have all unique characters? {result}\")"
      ],
      "metadata": {
        "colab": {
          "base_uri": "https://localhost:8080/"
        },
        "id": "2mQ96qNdw_3c",
        "outputId": "9336b3b4-20bf-421b-f350-e27029fac0b4"
      },
      "execution_count": 4,
      "outputs": [
        {
          "output_type": "stream",
          "name": "stdout",
          "text": [
            "Does the string 'abcdefg' have all unique characters? True\n"
          ]
        }
      ]
    },
    {
      "cell_type": "markdown",
      "source": [
        "8.Write a code to convert a given string to uppercase or lowercase?"
      ],
      "metadata": {
        "id": "dX-yOMoYxE40"
      }
    },
    {
      "cell_type": "code",
      "source": [
        "def convert_case(s, case):\n",
        "    if case == \"uppercase\":\n",
        "        return s.upper()\n",
        "    elif case == \"lowercase\":\n",
        "        return s.lower()\n",
        "    else:\n",
        "        return \"Invalid case option. Please choose 'uppercase' or 'lowercase'.\"\n",
        "\n",
        "# Input from the user\n",
        "input_string = input(\"Enter a string: \")\n",
        "case_option = input(\"Do you want to convert to 'uppercase' or 'lowercase'? \").strip().lower()\n",
        "\n",
        "# Convert the string\n",
        "result = convert_case(input_string, case_option)\n",
        "\n",
        "# Output the result\n",
        "print(f\"Converted string: {result}\")"
      ],
      "metadata": {
        "colab": {
          "base_uri": "https://localhost:8080/"
        },
        "id": "w8Kq4VtJxlK8",
        "outputId": "223d05c6-9ba7-47a6-ad07-34de1141a28b"
      },
      "execution_count": 6,
      "outputs": [
        {
          "output_type": "stream",
          "name": "stdout",
          "text": [
            "Enter a string: ayush\n",
            "Do you want to convert to 'uppercase' or 'lowercase'? uppercase \n",
            "Converted string: AYUSH\n"
          ]
        }
      ]
    },
    {
      "cell_type": "markdown",
      "source": [
        "9.Write a code to count the number of words in a string?"
      ],
      "metadata": {
        "id": "T5x3RJA8w1H7"
      }
    },
    {
      "cell_type": "code",
      "source": [
        "def count_words(s):\n",
        "    # Split the string into words using whitespace as the delimiter\n",
        "    words = s.split()\n",
        "    # Return the number of words\n",
        "    return len(words)\n",
        "\n",
        "# Input from the user\n",
        "input_string = input(\"Enter a string: \")\n",
        "\n",
        "# Count the number of words\n",
        "word_count = count_words(input_string)\n",
        "\n",
        "# Output the result\n",
        "print(f\"Number of words in the string: {word_count}\")"
      ],
      "metadata": {
        "colab": {
          "base_uri": "https://localhost:8080/"
        },
        "id": "Jy-rUGGcx8TV",
        "outputId": "a35fdbbe-310c-4061-94b6-8895a754df9c"
      },
      "execution_count": 7,
      "outputs": [
        {
          "output_type": "stream",
          "name": "stdout",
          "text": [
            "Enter a string: ayush kumar eoy\n",
            "Number of words in the string: 3\n"
          ]
        }
      ]
    },
    {
      "cell_type": "markdown",
      "source": [
        "10.Write a code to concatenate two strings without using the + operator?"
      ],
      "metadata": {
        "id": "WkNWYz9pyRPc"
      }
    },
    {
      "cell_type": "markdown",
      "source": [],
      "metadata": {
        "id": "DCkLduC0ymW1"
      }
    },
    {
      "cell_type": "code",
      "source": [
        "def concatenate_strings(s1, s2):\n",
        "    # Create a dictionary with the strings as keys\n",
        "    dict_strings = {0: s1, 1: s2}\n",
        "\n",
        "    # Use the join() method to concatenate the values of the dictionary\n",
        "    concatenated_string = ''.join(dict_strings[i] for i in sorted(dict_strings.keys()))\n",
        "\n",
        "    return concatenated_string\n",
        "\n",
        "# Input strings\n",
        "string1 = \"Hello, \"\n",
        "string2 = \"world!\"\n",
        "\n",
        "# Concatenate the strings\n",
        "result = concatenate_strings(string1, string2)\n",
        "\n",
        "# Output the result\n",
        "print(f\"Concatenated string: {result}\")"
      ],
      "metadata": {
        "colab": {
          "base_uri": "https://localhost:8080/"
        },
        "id": "MUIosHtFySyK",
        "outputId": "36c8e1be-c799-4890-8844-9d134f57c792"
      },
      "execution_count": 8,
      "outputs": [
        {
          "output_type": "stream",
          "name": "stdout",
          "text": [
            "Concatenated string: Hello, world!\n"
          ]
        }
      ]
    },
    {
      "cell_type": "markdown",
      "source": [
        "11.Write a code to remove all occurrences of a specific element from a lis?"
      ],
      "metadata": {
        "id": "lLx0ar15yoO0"
      }
    },
    {
      "cell_type": "code",
      "source": [
        "def remove_element(lst, element):\n",
        "    # Use a list comprehension to create a new list excluding the specified element\n",
        "    new_list = [x for x in lst if x != element]\n",
        "    return new_list\n",
        "\n",
        "# Example list\n",
        "my_list = [1, 2, 3, 4, 2, 5, 2, 6]\n",
        "\n",
        "# Element to remove\n",
        "element_to_remove = 2\n",
        "\n",
        "# Remove the element\n",
        "result_list = remove_element(my_list, element_to_remove)\n",
        "\n",
        "# Output the result\n",
        "print(f\"Original list: {my_list}\")\n",
        "print(f\"List after removing all occurrences of {element_to_remove}: {result_list}\")"
      ],
      "metadata": {
        "id": "MNEU_9KMyslF"
      },
      "execution_count": null,
      "outputs": []
    },
    {
      "cell_type": "markdown",
      "source": [
        "12.\u0012 Implement a code to find the second largest number in a given list of integer?"
      ],
      "metadata": {
        "id": "LV6EaMJByyrT"
      }
    },
    {
      "cell_type": "code",
      "source": [
        "def find_second_largest(numbers):\n",
        "    # Remove duplicates and sort the list in descending order\n",
        "    unique_numbers = sorted(set(numbers), reverse=True)\n",
        "\n",
        "    # Check if there are at least two unique elements\n",
        "    if len(unique_numbers) < 2:\n",
        "        return \"List does not have a second largest element.\"\n",
        "\n",
        "    # Return the second largest element\n",
        "    return unique_numbers[1]\n",
        "\n",
        "# Example list\n",
        "my_list = [10, 20, 4, 45, 99, 99, 45]\n",
        "\n",
        "# Find the second largest number\n",
        "second_largest = find_second_largest(my_list)\n",
        "\n",
        "# Output the result\n",
        "print(f\"Second largest number in the list: {second_largest}\")"
      ],
      "metadata": {
        "colab": {
          "base_uri": "https://localhost:8080/"
        },
        "id": "O-aHaXORy81c",
        "outputId": "c48fef16-3ad8-40fe-bfd7-aca31b081422"
      },
      "execution_count": 9,
      "outputs": [
        {
          "output_type": "stream",
          "name": "stdout",
          "text": [
            "Second largest number in the list: 45\n"
          ]
        }
      ]
    },
    {
      "cell_type": "markdown",
      "source": [
        "13.Create a code to count the occurrences of each element in a list and return a dictionary with elements as\n",
        "keys and their counts as values?"
      ],
      "metadata": {
        "id": "4vkqunE2y_Qs"
      }
    },
    {
      "cell_type": "code",
      "source": [
        "def count_occurrences(lst):\n",
        "    # Create an empty dictionary to store the counts\n",
        "    counts = {}\n",
        "\n",
        "    # Iterate through the list\n",
        "    for element in lst:\n",
        "        # If the element is already in the dictionary, increment its count\n",
        "        if element in counts:\n",
        "            counts[element] += 1\n",
        "        # Otherwise, add the element to the dictionary with a count of 1\n",
        "        else:\n",
        "            counts[element] = 1\n",
        "\n",
        "    return counts\n",
        "\n",
        "# Example list\n",
        "my_list = [1, 2, 2, 3, 3, 3, 4, 4, 4, 4]\n",
        "\n",
        "# Count occurrences of each element\n",
        "occurrences = count_occurrences(my_list)\n",
        "\n",
        "# Output the result\n",
        "print(f\"Occurrences of each element: {occurrences}\")"
      ],
      "metadata": {
        "colab": {
          "base_uri": "https://localhost:8080/"
        },
        "id": "D9BemIVCzDS1",
        "outputId": "693cd5bc-b245-42de-891c-b1cce7a0086f"
      },
      "execution_count": 10,
      "outputs": [
        {
          "output_type": "stream",
          "name": "stdout",
          "text": [
            "Occurrences of each element: {1: 1, 2: 2, 3: 3, 4: 4}\n"
          ]
        }
      ]
    },
    {
      "cell_type": "markdown",
      "source": [
        "14.Write a code to reverse a list in-place without using any built-in reverse functions?"
      ],
      "metadata": {
        "id": "h5eubQ6-zNKG"
      }
    },
    {
      "cell_type": "code",
      "source": [
        "def reverse_list_in_place(lst):\n",
        "    # Initialize two pointers: one at the start and one at the end of the list\n",
        "    left = 0\n",
        "    right = len(lst) - 1\n",
        "\n",
        "    # Swap elements from the start and end, moving towards the center\n",
        "    while left < right:\n",
        "        lst[left], lst[right] = lst[right], lst[left]\n",
        "        left += 1\n",
        "        right -= 1\n",
        "\n",
        "# Example list\n",
        "my_list = [1, 2, 3, 4, 5]\n",
        "\n",
        "# Reverse the list in-place\n",
        "reverse_list_in_place(my_list)\n",
        "\n",
        "# Output the result\n",
        "print(f\"Reversed list: {my_list}\")"
      ],
      "metadata": {
        "colab": {
          "base_uri": "https://localhost:8080/"
        },
        "id": "PgRK1OJIzTDm",
        "outputId": "699cdc38-f30a-4fbd-a051-cd68ec9d673d"
      },
      "execution_count": 11,
      "outputs": [
        {
          "output_type": "stream",
          "name": "stdout",
          "text": [
            "Reversed list: [5, 4, 3, 2, 1]\n"
          ]
        }
      ]
    },
    {
      "cell_type": "markdown",
      "source": [
        "15.Implement a code to find and remove duplicates from a list while preserving the original order of\n",
        "elements\u0012"
      ],
      "metadata": {
        "id": "J43ZyU_yzZm0"
      }
    },
    {
      "cell_type": "code",
      "source": [
        "def remove_duplicates_preserve_order(lst):\n",
        "    # Create an empty set to track seen elements\n",
        "    seen = set()\n",
        "    # Create a new list to store the result\n",
        "    result = []\n",
        "\n",
        "    for element in lst:\n",
        "        # If the element has not been seen, add it to the result list and mark it as seen\n",
        "        if element not in seen:\n",
        "            result.append(element)\n",
        "            seen.add(element)\n",
        "\n",
        "    return result\n",
        "\n",
        "# Example list\n",
        "my_list = [3, 5, 2, 3, 8, 5, 1, 2]\n",
        "\n",
        "# Remove duplicates while preserving order\n",
        "unique_list = remove_duplicates_preserve_order(my_list)\n",
        "\n",
        "# Output the result\n",
        "print(f\"Original list: {my_list}\")\n",
        "print(f\"List after removing duplicates: {unique_list}\")"
      ],
      "metadata": {
        "colab": {
          "base_uri": "https://localhost:8080/"
        },
        "id": "D3r0edd2zdir",
        "outputId": "37e72a19-8227-4db7-f450-add44d797d24"
      },
      "execution_count": 12,
      "outputs": [
        {
          "output_type": "stream",
          "name": "stdout",
          "text": [
            "Original list: [3, 5, 2, 3, 8, 5, 1, 2]\n",
            "List after removing duplicates: [3, 5, 2, 8, 1]\n"
          ]
        }
      ]
    },
    {
      "cell_type": "markdown",
      "source": [
        "16.Create a code to check if a given list is sorted (either in ascending or descending order) or not?"
      ],
      "metadata": {
        "id": "P0f9GQj1ziw7"
      }
    },
    {
      "cell_type": "code",
      "source": [
        "def is_sorted(lst):\n",
        "    # Check if the list is sorted in ascending order\n",
        "    if lst == sorted(lst):\n",
        "        return True\n",
        "    # Check if the list is sorted in descending order\n",
        "    elif lst == sorted(lst, reverse=True):\n",
        "        return True\n",
        "    # If neither, the list is not sorted\n",
        "    else:\n",
        "        return False\n",
        "\n",
        "# Example lists\n",
        "list1 = [1, 2, 3, 4, 5]  # Ascending order\n",
        "list2 = [5, 4, 3, 2, 1]  # Descending order\n",
        "list3 = [1, 3, 2, 4, 5]  # Not sorted\n",
        "\n",
        "# Check if the lists are sorted\n",
        "print(f\"Is list1 sorted? {is_sorted(list1)}\")\n",
        "print(f\"Is list2 sorted? {is_sorted(list2)}\")\n",
        "print(f\"Is list3 sorted? {is_sorted(list3)}\")"
      ],
      "metadata": {
        "colab": {
          "base_uri": "https://localhost:8080/"
        },
        "id": "e9eKB_RbzmWl",
        "outputId": "cf72a128-63d1-4f6a-cc4f-394af2fab8be"
      },
      "execution_count": 13,
      "outputs": [
        {
          "output_type": "stream",
          "name": "stdout",
          "text": [
            "Is list1 sorted? True\n",
            "Is list2 sorted? True\n",
            "Is list3 sorted? False\n"
          ]
        }
      ]
    },
    {
      "cell_type": "markdown",
      "source": [
        "17.Write a code to merge two sorted lists into a single sorted list?"
      ],
      "metadata": {
        "id": "8KwD_DUHz5Bz"
      }
    },
    {
      "cell_type": "code",
      "source": [
        "def merge_sorted_lists(list1, list2):\n",
        "    # Initialize pointers for both lists\n",
        "    i, j = 0, 0\n",
        "    # Initialize an empty list to store the merged result\n",
        "    merged_list = []\n",
        "\n",
        "    # Traverse both lists and merge them\n",
        "    while i < len(list1) and j < len(list2):\n",
        "        if list1[i] < list2[j]:\n",
        "            merged_list.append(list1[i])\n",
        "            i += 1\n",
        "        else:\n",
        "            merged_list.append(list2[j])\n",
        "            j += 1\n",
        "\n",
        "    # If there are remaining elements in list1, add them to the merged list\n",
        "    while i < len(list1):\n",
        "        merged_list.append(list1[i])\n",
        "        i += 1\n",
        "\n",
        "    # If there are remaining elements in list2, add them to the merged list\n",
        "    while j < len(list2):\n",
        "        merged_list.append(list2[j])\n",
        "        j += 1\n",
        "\n",
        "    return merged_list\n",
        "\n",
        "# Example sorted lists\n",
        "list1 = [1, 3, 5, 7]\n",
        "list2 = [2, 4, 6, 8]\n",
        "\n",
        "# Merge the two sorted lists\n",
        "merged_list = merge_sorted_lists(list1, list2)\n",
        "\n",
        "# Output the result\n",
        "print(f\"Merged sorted list: {merged_list}\")"
      ],
      "metadata": {
        "colab": {
          "base_uri": "https://localhost:8080/"
        },
        "id": "eC683Ic-z9KN",
        "outputId": "f1a423ff-84c4-461c-87fa-2dc20e9a8d8a"
      },
      "execution_count": 14,
      "outputs": [
        {
          "output_type": "stream",
          "name": "stdout",
          "text": [
            "Merged sorted list: [1, 2, 3, 4, 5, 6, 7, 8]\n"
          ]
        }
      ]
    },
    {
      "cell_type": "markdown",
      "source": [
        "18.\b\u0012 Implement a code to find the intersection of two given lists?"
      ],
      "metadata": {
        "id": "LLtGUU3j0QS1"
      }
    },
    {
      "cell_type": "code",
      "source": [
        "def find_intersection(list1, list2):\n",
        "    # Convert both lists to sets and use the intersection operation\n",
        "    intersection = list(set(list1) & set(list2))\n",
        "    return intersection\n",
        "\n",
        "# Example lists\n",
        "list1 = [1, 2, 3, 4, 5]\n",
        "list2 = [4, 5, 6, 7, 8]\n",
        "\n",
        "# Find the intersection\n",
        "intersection = find_intersection(list1, list2)\n",
        "\n",
        "# Output the result\n",
        "print(f\"Intersection of the two lists: {intersection}\")"
      ],
      "metadata": {
        "colab": {
          "base_uri": "https://localhost:8080/"
        },
        "id": "ryOrLjgA0V6M",
        "outputId": "1e15b1d9-e904-495d-9e2c-aaa5c088e3e1"
      },
      "execution_count": 15,
      "outputs": [
        {
          "output_type": "stream",
          "name": "stdout",
          "text": [
            "Intersection of the two lists: [4, 5]\n"
          ]
        }
      ]
    },
    {
      "cell_type": "markdown",
      "source": [
        "19.Create a code to find the union of two lists without duplicates?"
      ],
      "metadata": {
        "id": "4jF1rtij0gn3"
      }
    },
    {
      "cell_type": "code",
      "source": [
        "def union_of_lists(list1, list2):\n",
        "    return list(set(list1) | set(list2))\n",
        "\n",
        "# Example usage:\n",
        "lst1 = [1, 2, 3, 4]\n",
        "lst2 = [3, 4, 5, 6]\n",
        "result = union_of_lists(lst1, lst2)\n",
        "print(result)"
      ],
      "metadata": {
        "colab": {
          "base_uri": "https://localhost:8080/"
        },
        "id": "gKqZsQhs0lom",
        "outputId": "40febed7-c42f-4d44-feff-4eb08ffb4d41"
      },
      "execution_count": 16,
      "outputs": [
        {
          "output_type": "stream",
          "name": "stdout",
          "text": [
            "[1, 2, 3, 4, 5, 6]\n"
          ]
        }
      ]
    },
    {
      "cell_type": "markdown",
      "source": [
        "20.\n",
        "import random\n",
        "Write a code to shuffle a given list randomly without using any built-in shuffle functions"
      ],
      "metadata": {
        "id": "P7L50KQ71IX-"
      }
    },
    {
      "cell_type": "code",
      "source": [
        "import random\n",
        "\n",
        "def union_of_lists(list1, list2):\n",
        "    return list(set(list1) | set(list2))\n",
        "\n",
        "def shuffle_list(lst):\n",
        "    shuffled = lst[:]\n",
        "    for i in range(len(shuffled) - 1, 0, -1):\n",
        "        j = random.randint(0, i)\n",
        "        shuffled[i], shuffled[j] = shuffled[j], shuffled[i]\n",
        "    return shuffled\n",
        "\n",
        "# Example usage:\n",
        "lst1 = [1, 2, 3, 4]\n",
        "lst2 = [3, 4, 5, 6]\n",
        "result = union_of_lists(lst1, lst2)\n",
        "print(result)  # Output: [1, 2, 3, 4, 5, 6] (order may vary)\n",
        "\n",
        "shuffled_list = shuffle_list(result)\n",
        "print(shuffled_list)  # Output: Randomly shuffled list\n"
      ],
      "metadata": {
        "colab": {
          "base_uri": "https://localhost:8080/"
        },
        "id": "HDPCi6uP1b_0",
        "outputId": "bf4fcb1b-36a7-4b0d-9f3a-b63df2b49dee"
      },
      "execution_count": 17,
      "outputs": [
        {
          "output_type": "stream",
          "name": "stdout",
          "text": [
            "[1, 2, 3, 4, 5, 6]\n",
            "[6, 5, 3, 2, 1, 4]\n"
          ]
        }
      ]
    },
    {
      "cell_type": "markdown",
      "source": [
        "21.\u0012 Write a code that takes two tuples as input and returns a new tuple containing elements that are\n",
        "common to both input tuples\u0012"
      ],
      "metadata": {
        "id": "13sw3evv1f2t"
      }
    },
    {
      "cell_type": "code",
      "source": [
        "import random\n",
        "\n",
        "def union_of_lists(list1, list2):\n",
        "    return list(set(list1) | set(list2))\n",
        "\n",
        "def shuffle_list(lst):\n",
        "    shuffled = lst[:]\n",
        "    for i in range(len(shuffled) - 1, 0, -1):\n",
        "        j = random.randint(0, i)\n",
        "        shuffled[i], shuffled[j] = shuffled[j], shuffled[i]\n",
        "    return shuffled\n",
        "\n",
        "def common_elements(tuple1, tuple2):\n",
        "    return tuple(set(tuple1) & set(tuple2))\n",
        "\n",
        "# Example usage:\n",
        "lst1 = [1, 2, 3, 4]\n",
        "lst2 = [3, 4, 5, 6]\n",
        "result = union_of_lists(lst1, lst2)\n",
        "print(result)  # Output: [1, 2, 3, 4, 5, 6] (order may vary)\n",
        "\n",
        "shuffled_list = shuffle_list(result)\n",
        "print(shuffled_list)  # Output: Randomly shuffled list\n",
        "\n",
        "tuple1 = (1, 2, 3, 4)\n",
        "tuple2 = (3, 4, 5, 6)\n",
        "common_tuple = common_elements(tuple1, tuple2)\n",
        "print(common_tuple)  # Output: (3, 4) (order may vary)\n"
      ],
      "metadata": {
        "id": "wpBJxyJq1kRm"
      },
      "execution_count": null,
      "outputs": []
    },
    {
      "cell_type": "markdown",
      "source": [
        "22.Create a code that prompts the user to enter two sets of integers separated by commas. Then, print the\n",
        "intersection of these two sets?"
      ],
      "metadata": {
        "id": "U2YS51Pg1pbl"
      }
    },
    {
      "cell_type": "code",
      "source": [
        "import random\n",
        "\n",
        "def union_of_lists(list1, list2):\n",
        "    return list(set(list1) | set(list2))\n",
        "\n",
        "def shuffle_list(lst):\n",
        "    shuffled = lst[:]\n",
        "    for i in range(len(shuffled) - 1, 0, -1):\n",
        "        j = random.randint(0, i)\n",
        "        shuffled[i], shuffled[j] = shuffled[j], shuffled[i]\n",
        "    return shuffled\n",
        "\n",
        "def common_elements(tuple1, tuple2):\n",
        "    return tuple(set(tuple1) & set(tuple2))\n",
        "\n",
        "def intersection_of_sets():\n",
        "    set1 = set(map(int, input(\"Enter first set of integers separated by commas: \").split(',')))\n",
        "    set2 = set(map(int, input(\"Enter second set of integers separated by commas: \").split(',')))\n",
        "    print(\"Intersection:\", set1 & set2)\n",
        "\n",
        "# Example usage:\n",
        "lst1 = [1, 2, 3, 4]\n",
        "lst2 = [3, 4, 5, 6]\n",
        "result = union_of_lists(lst1, lst2)\n",
        "print(result)  # Output: [1, 2, 3, 4, 5, 6] (order may vary)\n",
        "\n",
        "shuffled_list = shuffle_list(result)\n",
        "print(shuffled_list)  # Output: Randomly shuffled list\n",
        "\n",
        "tuple1 = (1, 2, 3, 4)\n",
        "tuple2 = (3, 4, 5, 6)\n",
        "common_tuple = common_elements(tuple1, tuple2)\n",
        "print(common_tuple)  # Output: (3, 4) (order may vary)\n",
        "\n",
        "# Prompt user for sets and print intersection\n",
        "intersection_of_sets()"
      ],
      "metadata": {
        "colab": {
          "base_uri": "https://localhost:8080/"
        },
        "id": "ckA88ehV1s5t",
        "outputId": "1d492670-8b50-407f-9211-9a977e19b95a"
      },
      "execution_count": 18,
      "outputs": [
        {
          "output_type": "stream",
          "name": "stdout",
          "text": [
            "[1, 2, 3, 4, 5, 6]\n",
            "[2, 1, 5, 4, 3, 6]\n",
            "(3, 4)\n",
            "Enter first set of integers separated by commas: 1,2,5,6\n",
            "Enter second set of integers separated by commas: 3,2,5\n",
            "Intersection: {2, 5}\n"
          ]
        }
      ]
    },
    {
      "cell_type": "markdown",
      "source": [
        "23.\u0012 Write a code to concatenate two tuples. The function should take two tuples as input and return a new\n",
        "tuple containing elements from both input tuples."
      ],
      "metadata": {
        "id": "qLiEF9_R16iu"
      }
    },
    {
      "cell_type": "code",
      "source": [
        "def concatenate_tuples(tuple1, tuple2):\n",
        "    # Concatenate the two tuples using the + operator\n",
        "    concatenated_tuple = tuple1 + tuple2\n",
        "    return concatenated_tuple\n",
        "\n",
        "# Example tuples\n",
        "tuple1 = (1, 2, 3)\n",
        "tuple2 = (4, 5, 6)\n",
        "\n",
        "# Concatenate the tuples\n",
        "result_tuple = concatenate_tuples(tuple1, tuple2)\n",
        "\n",
        "# Output the result\n",
        "print(f\"Concatenated tuple: {result_tuple}\")"
      ],
      "metadata": {
        "colab": {
          "base_uri": "https://localhost:8080/"
        },
        "id": "aZjkX8oU1-JO",
        "outputId": "e50751dd-04f0-4efa-a51d-c0e3d410f322"
      },
      "execution_count": null,
      "outputs": [
        {
          "output_type": "stream",
          "name": "stdout",
          "text": [
            "[1, 2, 3, 4, 5, 6]\n",
            "[4, 1, 5, 2, 3, 6]\n",
            "(3, 4)\n"
          ]
        }
      ]
    },
    {
      "cell_type": "markdown",
      "source": [
        "24.Develop a code that prompts the user to input two sets of strings. Then, print the elements that are\n",
        "present in the first set but not in the second set?"
      ],
      "metadata": {
        "id": "oW3c6N0n3Lnq"
      }
    },
    {
      "cell_type": "code",
      "source": [
        "def input_set(prompt):\n",
        "    # Prompt the user to input a set of strings\n",
        "    user_input = input(prompt)\n",
        "    # Split the input string into a list of strings and convert it to a set\n",
        "    return set(user_input.split())\n",
        "\n",
        "# Prompt the user to input two sets of strings\n",
        "set1 = input_set(\"Enter the first set of strings (separated by spaces): \")\n",
        "set2 = input_set(\"Enter the second set of strings (separated by spaces): \")\n",
        "\n",
        "# Find the elements present in the first set but not in the second set\n",
        "difference = set1 - set2\n",
        "\n",
        "# Output the result\n",
        "print(f\"Elements in the first set but not in the second set: {difference}\")"
      ],
      "metadata": {
        "id": "06pkcbsc3fp_"
      },
      "execution_count": null,
      "outputs": []
    },
    {
      "cell_type": "markdown",
      "source": [
        "25.\n",
        "Create a code that takes a tuple and two integers as input. The function should return a new tuple\n",
        "containing elements from the original tuple within the specified range of indices?"
      ],
      "metadata": {
        "id": "DlSLHKnP3kAj"
      }
    },
    {
      "cell_type": "code",
      "source": [
        "def shuffle_list(lst):\n",
        "    shuffled = lst[:]\n",
        "    for i in range(len(shuffled) - 1, 0, -1):\n",
        "        j = random.randint(0, i)\n",
        "        shuffled[i], shuffled[j] = shuffled[j], shuffled[i]\n",
        "    return shuffled\n",
        "\n",
        "def common_elements(tuple1, tuple2):\n",
        "    return tuple(set(tuple1) & set(tuple2))\n",
        "\n",
        "def concatenate_tuples(tuple1, tuple2):\n",
        "    return tuple1 + tuple2\n",
        "\n",
        "def slice_tuple(tpl, start, end):\n",
        "    return tpl[start:end]\n",
        "\n",
        "def intersection_of_sets():\n",
        "    set1 = set(map(int, input(\"Enter first set of integers separated by commas: \").split(',')))\n",
        "    set2 = set(map(int, input(\"Enter second set of integers separated by commas: \").split(',')))\n",
        "    print(\"Intersection:\", set1 & set2)\n",
        "\n",
        "def difference_of_sets():\n",
        "    set1 = set(input(\"Enter first set of strings separated by commas: \").split(','))\n",
        "    set2 = set(input(\"Enter second set of strings separated by commas: \").split(','))\n",
        "    print(\"Elements in first set but not in second set:\", set1 - set2)\n",
        "\n",
        "# Example usage:\n",
        "lst1 = [1, 2, 3, 4]\n",
        "lst2 = [3, 4, 5, 6]\n",
        "result = union_of_lists(lst1, lst2)\n",
        "print(result)  # Output: [1, 2, 3, 4, 5, 6] (order may vary)\n",
        "\n",
        "shuffled_list = shuffle_list(result)\n",
        "print(shuffled_list)  # Output: Randomly shuffled list\n",
        "\n",
        "tuple1 = (1, 2, 3, 4)\n",
        "tuple2 = (3, 4, 5, 6)\n",
        "common_tuple = common_elements(tuple1, tuple2)\n",
        "print(common_tuple)  # Output: (3, 4) (order may vary)\n",
        "\n",
        "concatenated_tuple = concatenate_tuples(tuple1, tuple2)\n",
        "print(concatenated_tuple)  # Output: (1, 2, 3, 4, 3, 4, 5, 6)\n",
        "\n",
        "sliced_tuple = slice_tuple(tuple1, 1, 3)\n",
        "print(sliced_tuple)  # Output: (2, 3)\n",
        "\n",
        "# Prompt user for sets and print intersection\n",
        "intersection_of_sets()\n",
        "\n",
        "# Prompt user for sets and print difference\n",
        "difference_of_sets()\n"
      ],
      "metadata": {
        "id": "6PC5jdas3w7u"
      },
      "execution_count": null,
      "outputs": []
    },
    {
      "cell_type": "markdown",
      "source": [
        "26.Write a code that prompts the user to input two sets of characters. Then, print the union of these two sets?"
      ],
      "metadata": {
        "id": "AawT1SVP4F9v"
      }
    },
    {
      "cell_type": "code",
      "source": [
        "def input_set(prompt):\n",
        "    # Prompt the user to input a set of characters\n",
        "    user_input = input(prompt)\n",
        "    # Convert the input string into a set of characters\n",
        "    return set(user_input)\n",
        "\n",
        "# Prompt the user to input two sets of characters\n",
        "set1 = input_set(\"Enter the first set of characters: \")\n",
        "set2 = input_set(\"Enter the second set of characters: \")\n",
        "\n",
        "# Find the union of the two sets\n",
        "union_set = set1 | set2\n",
        "\n",
        "# Output the result\n",
        "print(f\"Union of the two sets: {union_set}\")"
      ],
      "metadata": {
        "id": "7f4CtfoI4quK"
      },
      "execution_count": null,
      "outputs": []
    },
    {
      "cell_type": "markdown",
      "source": [
        "27.*& Develop a code that takes a tuple of integers as input. The function should return the maximum and\n",
        "minimum values from the tuple using tuple unpacking?"
      ],
      "metadata": {
        "id": "lQkvV2ju4vWW"
      }
    },
    {
      "cell_type": "code",
      "source": [
        "def find_max_min(numbers):\n",
        "    # Use the built-in max() and min() functions to find the maximum and minimum values\n",
        "    max_value = max(numbers)\n",
        "    min_value = min(numbers)\n",
        "    # Return the maximum and minimum values as a tuple\n",
        "    return max_value, min_value\n",
        "\n",
        "# Example tuple of integers\n",
        "numbers_tuple = (10, 20, 5, 40, 30)\n",
        "\n",
        "# Find the maximum and minimum values\n",
        "max_val, min_val = find_max_min(numbers_tuple)\n",
        "\n",
        "# Output the result\n",
        "print(f\"Maximum value: {max_val}\")\n",
        "print(f\"Minimum value: {min_val}\")"
      ],
      "metadata": {
        "id": "Kz-acGQ540K4"
      },
      "execution_count": null,
      "outputs": []
    },
    {
      "cell_type": "markdown",
      "source": [
        "28.Create a code that defines two sets of integers. Then, print the union, intersection, and difference of these\n",
        "two sets?\n"
      ],
      "metadata": {
        "id": "DTZRjUS14_x9"
      }
    },
    {
      "cell_type": "code",
      "source": [
        "import random\n",
        "\n",
        "def union_of_lists(list1, list2):\n",
        "    return list(set(list1) | set(list2))\n",
        "\n",
        "def shuffle_list(lst):\n",
        "    shuffled = lst[:]\n",
        "    for i in range(len(shuffled) - 1, 0, -1):\n",
        "        j = random.randint(0, i)\n",
        "        shuffled[i], shuffled[j] = shuffled[j], shuffled[i]\n",
        "    return shuffled\n",
        "\n",
        "def common_elements(tuple1, tuple2):\n",
        "    return tuple(set(tuple1) & set(tuple2))\n",
        "\n",
        "def concatenate_tuples(tuple1, tuple2):\n",
        "    return tuple1 + tuple2\n",
        "\n",
        "def slice_tuple(tpl, start, end):\n",
        "    return tpl[start:end]\n",
        "\n",
        "def intersection_of_sets():\n",
        "    set1 = set(map(int, input(\"Enter first set of integers separated by commas: \").split(',')))\n",
        "    set2 = set(map(int, input(\"Enter second set of integers separated by commas: \").split(',')))\n",
        "    print(\"Intersection:\", set1 & set2)\n",
        "\n",
        "def difference_of_sets():\n",
        "    set1 = set(input(\"Enter first set of strings separated by commas: \").split(','))\n",
        "    set2 = set(input(\"Enter second set of strings separated by commas: \").split(','))\n",
        "    print(\"Elements in first set but not in second set:\", set1 - set2)\n",
        "\n",
        "def set_operations():\n",
        "    set1 = {1, 2, 3, 4, 5}\n",
        "    set2 = {4, 5, 6, 7, 8}\n",
        "    print(\"Union:\", set1 | set2)\n",
        "    print(\"Intersection:\", set1 & set2)\n",
        "    print(\"Difference (set1 - set2):\", set1 - set2)\n",
        "    print(\"Difference (set2 - set1):\", set2 - set1)\n",
        "\n",
        "# Example usage:\n",
        "lst1 = [1, 2, 3, 4]\n",
        "lst2 = [3, 4, 5, 6]\n",
        "result = union_of_lists(lst1, lst2)\n",
        "print(result)  # Output: [1, 2, 3, 4, 5, 6] (order may vary)\n",
        "\n",
        "shuffled_list = shuffle_list(result)\n",
        "print(shuffled_list)  # Output: Randomly shuffled list\n",
        "\n",
        "tuple1 = (1, 2, 3, 4)\n",
        "tuple2 = (3, 4, 5, 6)\n",
        "common_tuple = common_elements(tuple1, tuple2)\n",
        "print(common_tuple)  # Output: (3, 4) (order may vary)\n",
        "\n",
        "concatenated_tuple = concatenate_tuples(tuple1, tuple2)\n",
        "print(concatenated_tuple)  # Output: (1, 2, 3, 4, 3, 4, 5, 6)\n",
        "\n",
        "sliced_tuple = slice_tuple(tuple1, 1, 3)\n",
        "print(sliced_tuple)  # Output: (2, 3)\n",
        "\n",
        "# Prompt user for sets and print intersection\n",
        "intersection_of_sets()\n",
        "\n",
        "# Prompt user for sets and print difference\n",
        "difference_of_sets()\n",
        "\n",
        "# Print predefined set operations\n",
        "set_operations()\n"
      ],
      "metadata": {
        "id": "bEHVW3V-5Dpk"
      },
      "execution_count": null,
      "outputs": []
    },
    {
      "cell_type": "markdown",
      "source": [
        "29.Write a code that takes a tuple and an element as input. The function should return the count of\n",
        "occurrences of the given element in the tuple?"
      ],
      "metadata": {
        "id": "Qo2Ohw4z5HGu"
      }
    },
    {
      "cell_type": "code",
      "source": [
        "\n",
        "def union_of_lists(list1, list2):\n",
        "    return list(set(list1) | set(list2))\n",
        "\n",
        "def shuffle_list(lst):\n",
        "    shuffled = lst[:]\n",
        "    for i in range(len(shuffled) - 1, 0, -1):\n",
        "        j = random.randint(0, i)\n",
        "        shuffled[i], shuffled[j] = shuffled[j], shuffled[i]\n",
        "    return shuffled\n",
        "\n",
        "def common_elements(tuple1, tuple2):\n",
        "    return tuple(set(tuple1) & set(tuple2))\n",
        "\n",
        "def concatenate_tuples(tuple1, tuple2):\n",
        "    return tuple1 + tuple2\n",
        "\n",
        "def slice_tuple(tpl, start, end):\n",
        "    return tpl[start:end]\n",
        "\n",
        "def count_element_in_tuple(tpl, element):\n",
        "    return tpl.count(element)\n",
        "\n",
        "def intersection_of_sets():\n",
        "    set1 = set(map(int, input(\"Enter first set of integers separated by commas: \").split(',')))\n",
        "    set2 = set(map(int, input(\"Enter second set of integers separated by commas: \").split(',')))\n",
        "    print(\"Intersection:\", set1 & set2)\n",
        "\n",
        "def difference_of_sets():\n",
        "    set1 = set(input(\"Enter first set of strings separated by commas: \").split(','))\n",
        "    set2 = set(input(\"Enter second set of strings separated by commas: \").split(','))\n",
        "    print(\"Elements in first set but not in second set:\", set1 - set2)\n",
        "\n",
        "def set_operations():\n",
        "    set1 = {1, 2, 3, 4, 5}\n",
        "    set2 = {4, 5, 6, 7, 8}\n",
        "    print(\"Union:\", set1 | set2)\n",
        "    print(\"Intersection:\", set1 & set2)\n",
        "    print(\"Difference (set1 - set2):\", set1 - set2)\n",
        "    print(\"Difference (set2 - set1):\", set2 - set1)\n",
        "\n",
        "# Example usage:\n",
        "lst1 = [1, 2, 3, 4]\n",
        "lst2 = [3, 4, 5, 6]\n",
        "result = union_of_lists(lst1, lst2)\n",
        "print(result)  # Output: [1, 2, 3, 4, 5, 6] (order may vary)\n",
        "\n",
        "shuffled_list = shuffle_list(result)\n",
        "print(shuffled_list)  # Output: Randomly shuffled list\n",
        "\n",
        "tuple1 = (1, 2, 3, 4, 2, 2)\n",
        "tuple2 = (3, 4, 5, 6)\n",
        "common_tuple = common_elements(tuple1, tuple2)\n",
        "print(common_tuple)  # Output: (3, 4) (order may vary)\n",
        "\n",
        "concatenated_tuple = concatenate_tuples(tuple1, tuple2)\n",
        "print(concatenated_tuple)  # Output: (1, 2, 3, 4, 2, 2, 3, 4, 5, 6)\n",
        "\n",
        "sliced_tuple = slice_tuple(tuple1, 1, 3)\n",
        "print(sliced_tuple)  # Output: (2, 3)\n",
        "\n",
        "count = count_element_in_tuple(tuple1, 2)\n",
        "print(f\"Count of 2 in tuple1: {count}\")  # Output: 3\n",
        "\n",
        "# Prompt user for sets and print intersection\n",
        "intersection_of_sets()\n",
        "\n",
        "# Prompt user for sets and print difference\n",
        "difference_of_sets()\n",
        "\n",
        "# Print predefined set operations\n",
        "set_operations()"
      ],
      "metadata": {
        "id": "rTRqq5aD5Xga"
      },
      "execution_count": null,
      "outputs": []
    },
    {
      "cell_type": "markdown",
      "source": [
        "30.Develop a code that prompts the user to input two sets of strings. Then, print the symmetric difference of\n",
        "these two sets?"
      ],
      "metadata": {
        "id": "0juJTxsO5twf"
      }
    },
    {
      "cell_type": "code",
      "source": [
        "import random\n",
        "\n",
        "def union_of_lists(list1, list2):\n",
        "    return list(set(list1) | set(list2))\n",
        "\n",
        "def shuffle_list(lst):\n",
        "    shuffled = lst[:]\n",
        "    for i in range(len(shuffled) - 1, 0, -1):\n",
        "        j = random.randint(0, i)\n",
        "        shuffled[i], shuffled[j] = shuffled[j], shuffled[i]\n",
        "    return shuffled\n",
        "\n",
        "def common_elements(tuple1, tuple2):\n",
        "    return tuple(set(tuple1) & set(tuple2))\n",
        "\n",
        "def concatenate_tuples(tuple1, tuple2):\n",
        "    return tuple1 + tuple2\n",
        "\n",
        "def slice_tuple(tpl, start, end):\n",
        "    return tpl[start:end]\n",
        "\n",
        "def count_element_in_tuple(tpl, element):\n",
        "    return tpl.count(element)\n",
        "\n",
        "def intersection_of_sets():\n",
        "    set1 = set(map(int, input(\"Enter first set of integers separated by commas: \").split(',')))\n",
        "    set2 = set(map(int, input(\"Enter second set of integers separated by commas: \").split(',')))\n",
        "    print(\"Intersection:\", set1 & set2)\n",
        "\n",
        "def difference_of_sets():\n",
        "    set1 = set(input(\"Enter first set of strings separated by commas: \").split(','))\n",
        "    set2 = set(input(\"Enter second set of strings separated by commas: \").split(','))\n",
        "    print(\"Elements in first set but not in second set:\", set1 - set2)\n",
        "\n",
        "def symmetric_difference_of_sets():\n",
        "    set1 = set(input(\"Enter first set of strings separated by commas: \").split(','))\n",
        "    set2 = set(input(\"Enter second set of strings separated by commas: \").split(','))\n",
        "    print(\"Symmetric Difference:\", set1 ^ set2)\n",
        "\n",
        "def set_operations():\n",
        "    set1 = {1, 2, 3, 4, 5}\n",
        "    set2 = {4, 5, 6, 7, 8}\n",
        "    print(\"Union:\", set1 | set2)\n",
        "    print(\"Intersection:\", set1 & set2)\n",
        "    print(\"Difference (set1 - set2):\", set1 - set2)\n",
        "    print(\"Difference (set2 - set1):\", set2 - set1)\n",
        "\n",
        "# Example usage:\n",
        "lst1 = [1, 2, 3, 4]\n",
        "lst2 = [3, 4, 5, 6]\n",
        "result = union_of_lists(lst1, lst2)\n",
        "print(result)  # Output: [1, 2, 3, 4, 5, 6] (order may vary)\n",
        "\n",
        "shuffled_list = shuffle_list(result)\n",
        "print(shuffled_list)  # Output: Randomly shuffled list\n",
        "\n",
        "tuple1 = (1, 2, 3, 4, 2, 2)\n",
        "tuple2 = (3, 4, 5, 6)\n",
        "common_tuple = common_elements(tuple1, tuple2)\n",
        "print(common_tuple)  # Output: (3, 4) (order may vary)\n",
        "\n",
        "concatenated_tuple = concatenate_tuples(tuple1, tuple2)\n",
        "print(concatenated_tuple)  # Output: (1, 2, 3, 4, 2, 2, 3, 4, 5, 6)\n",
        "\n",
        "sliced_tuple = slice_tuple(tuple1, 1, 3)\n",
        "print(sliced_tuple)  # Output: (2, 3)\n",
        "\n",
        "count = count_element_in_tuple(tuple1, 2)\n",
        "print(f\"Count of 2 in tuple1: {count}\")  # Output: 3\n",
        "\n",
        "# Prompt user for sets and print intersection\n",
        "intersection_of_sets()\n",
        "\n",
        "# Prompt user for sets and print difference\n",
        "difference_of_sets()\n",
        "\n",
        "# Prompt user for sets and print symmetric difference\n",
        "symmetric_difference_of_sets()\n",
        "\n",
        "# Print predefined set operations\n",
        "set_operations()\n"
      ],
      "metadata": {
        "id": "7sAX_J_n5xB1"
      },
      "execution_count": null,
      "outputs": []
    },
    {
      "cell_type": "markdown",
      "source": [
        "31.Write a code that takes a list of words as input and returns a dictionary where the keys are unique words\n",
        "and the values are the frequencies of those words in the input list?"
      ],
      "metadata": {
        "id": "NH1qaLFN588j"
      }
    },
    {
      "cell_type": "code",
      "source": [
        "def union_of_lists(list1, list2):\n",
        "    return list(set(list1) | set(list2))\n",
        "\n",
        "def shuffle_list(lst):\n",
        "    shuffled = lst[:]\n",
        "    for i in range(len(shuffled) - 1, 0, -1):\n",
        "        j = random.randint(0, i)\n",
        "        shuffled[i], shuffled[j] = shuffled[j], shuffled[i]\n",
        "    return shuffled\n",
        "\n",
        "def common_elements(tuple1, tuple2):\n",
        "    return tuple(set(tuple1) & set(tuple2))\n",
        "\n",
        "def concatenate_tuples(tuple1, tuple2):\n",
        "    return tuple1 + tuple2\n",
        "\n",
        "def slice_tuple(tpl, start, end):\n",
        "    return tpl[start:end]\n",
        "\n",
        "def count_element_in_tuple(tpl, element):\n",
        "    return tpl.count(element)\n",
        "\n",
        "def intersection_of_sets():\n",
        "    set1 = set(map(int, input(\"Enter first set of integers separated by commas: \").split(',')))\n",
        "    set2 = set(map(int, input(\"Enter second set of integers separated by commas: \").split(',')))\n",
        "    print(\"Intersection:\", set1 & set2)\n",
        "\n",
        "def difference_of_sets():\n",
        "    set1 = set(input(\"Enter first set of strings separated by commas: \").split(','))\n",
        "    set2 = set(input(\"Enter second set of strings separated by commas: \").split(','))\n",
        "    print(\"Elements in first set but not in second set:\", set1 - set2)\n",
        "\n",
        "def symmetric_difference_of_sets():\n",
        "    set1 = set(input(\"Enter first set of strings separated by commas: \").split(','))\n",
        "    set2 = set(input(\"Enter second set of strings separated by commas: \").split(','))\n",
        "    print(\"Symmetric Difference:\", set1 ^ set2)\n",
        "\n",
        "def set_operations():\n",
        "    set1 = {1, 2, 3, 4, 5}\n",
        "    set2 = {4, 5, 6, 7, 8}\n",
        "    print(\"Union:\", set1 | set2)\n",
        "    print(\"Intersection:\", set1 & set2)\n",
        "    print(\"Difference (set1 - set2):\", set1 - set2)\n",
        "    print(\"Difference (set2 - set1):\", set2 - set1)\n",
        "\n",
        "# Example usage:\n",
        "lst1 = [1, 2, 3, 4]\n",
        "lst2 = [3, 4, 5, 6]\n",
        "result = union_of_lists(lst1, lst2)\n",
        "print(result)  # Output: [1, 2, 3, 4, 5, 6] (order may vary)\n",
        "\n",
        "shuffled_list = shuffle_list(result)\n",
        "print(shuffled_list)  # Output: Randomly shuffled list\n",
        "\n",
        "tuple1 = (1, 2, 3, 4, 2, 2)\n",
        "tuple2 = (3, 4, 5, 6)\n",
        "common_tuple = common_elements(tuple1, tuple2)\n",
        "print(common_tuple)  # Output: (3, 4) (order may vary)\n",
        "\n",
        "concatenated_tuple = concatenate_tuples(tuple1, tuple2)\n",
        "print(concatenated_tuple)  # Output: (1, 2, 3, 4, 2, 2, 3, 4, 5, 6)\n",
        "\n",
        "sliced_tuple = slice_tuple(tuple1, 1, 3)\n",
        "print(sliced_tuple)  # Output: (2, 3)\n",
        "\n",
        "count = count_element_in_tuple(tuple1, 2)\n",
        "print(f\"Count of 2 in tuple1: {count}\")  # Output: 3\n",
        "\n",
        "# Prompt user for sets and print intersection\n",
        "intersection_of_sets()\n",
        "\n",
        "# Prompt user for sets and print difference\n",
        "difference_of_sets()\n",
        "\n",
        "# Prompt user for sets and print symmetric difference\n",
        "symmetric_difference_of_sets()\n",
        "\n",
        "# Print predefined set operations\n",
        "set_operations()\n"
      ],
      "metadata": {
        "id": "MET06GJL6IQf"
      },
      "execution_count": null,
      "outputs": []
    },
    {
      "cell_type": "markdown",
      "source": [
        "Write a code that takes two dictionaries as input and merges them into a single dictionary. If there are\n",
        "common keys, the values should be added together?\n"
      ],
      "metadata": {
        "id": "YBPAkhOg6mBW"
      }
    },
    {
      "cell_type": "code",
      "source": [
        "def merge_dictionaries(dict1, dict2):\n",
        "    # Create a new dictionary to store the merged result\n",
        "    merged_dict = dict1.copy()  # Start with a copy of the first dictionary\n",
        "\n",
        "    # Iterate through the second dictionary\n",
        "    for key, value in dict2.items():\n",
        "        # If the key already exists in the merged dictionary, add the values\n",
        "        if key in merged_dict:\n",
        "            merged_dict[key] += value\n",
        "        # Otherwise, add the key-value pair to the merged dictionary\n",
        "        else:\n",
        "            merged_dict[key] = value\n",
        "\n",
        "    return merged_dict\n",
        "\n",
        "# Example dictionaries\n",
        "dict1 = {'a': 10, 'b': 20, 'c': 30}\n",
        "dict2 = {'b': 30, 'c': 40, 'd': 50}\n",
        "\n",
        "# Merge the dictionaries\n",
        "merged_dict = merge_dictionaries(dict1, dict2)\n",
        "\n",
        "# Output the result\n",
        "print(f\"Merged dictionary: {merged_dict}\")"
      ],
      "metadata": {
        "id": "Q2lTA5PE6qhl"
      },
      "execution_count": null,
      "outputs": []
    },
    {
      "cell_type": "markdown",
      "source": [],
      "metadata": {
        "id": "zzDLQQfc7Ica"
      }
    }
  ]
}